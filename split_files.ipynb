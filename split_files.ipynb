{
 "cells": [
  {
   "cell_type": "code",
   "execution_count": 1,
   "id": "20238562-3490-4b14-83db-c2a7ca644300",
   "metadata": {},
   "outputs": [],
   "source": [
    "def chunked_file_reader(fp, block_size):\n",
    "    while True:\n",
    "        chunk = fp.read(block_size)\n",
    "        if not chunk:\n",
    "            break\n",
    "        yield chunk"
   ]
  },
  {
   "cell_type": "code",
   "execution_count": 2,
   "id": "5b50f6ee-da0b-4617-a292-a03564d3738d",
   "metadata": {},
   "outputs": [],
   "source": [
    "def read_from_file_v2(infilename, outfilename, block_size=1024*8):\n",
    "    with open(infilename, 'r') as fp:\n",
    "        count = 1\n",
    "        for chunk in chunked_file_reader(fp, block_size):\n",
    "            file = outfilename + '_' + str(count).zfill(4) + '.txt'\n",
    "            print(file)\n",
    "            w = open(file, \"w\")\n",
    "            w.write(chunk)\n",
    "            w.close()\n",
    "            count += 1"
   ]
  },
  {
   "cell_type": "code",
   "execution_count": 3,
   "id": "73159d97-e69d-4b4a-8245-52ec4c091034",
   "metadata": {},
   "outputs": [],
   "source": [
    "tr_infile = 'C:/Users/Milind/Downloads/amex_train_data/amex_train_data.csv'\n",
    "tr_outfile = 'C:/Users/Milind/Downloads/amex_train_data/train_files/amex_train_data'"
   ]
  },
  {
   "cell_type": "code",
   "execution_count": 4,
   "id": "9b71014c-1142-48f0-89eb-83cff6ea2448",
   "metadata": {},
   "outputs": [],
   "source": [
    "infile = 'C:/Users/Milind/Downloads/amex_test_data/amex_test_data.csv'\n",
    "outfile = 'C:/Users/Milind/Downloads/amex_test_data/test_files/amex_test_data'"
   ]
  },
  {
   "cell_type": "code",
   "execution_count": 5,
   "id": "9efaa501-dcec-45b2-9f58-609f242e8bc9",
   "metadata": {},
   "outputs": [],
   "source": [
    "lbl_infile = 'C:/Users/Milind/Downloads/amex_train_labels/train_labels.csv'\n",
    "lbl_outfile = 'C:/Users/Milind/Downloads/amex_train_labels/label_files/train_labels'"
   ]
  },
  {
   "cell_type": "code",
   "execution_count": 6,
   "id": "2932c3af-940a-4753-960b-cdcd8783fd4b",
   "metadata": {},
   "outputs": [
    {
     "name": "stdout",
     "output_type": "stream",
     "text": [
      "C:/Users/Milind/Downloads/amex_test_data/test_files/amex_test_data_0001.txt\n",
      "C:/Users/Milind/Downloads/amex_test_data/test_files/amex_test_data_0002.txt\n",
      "C:/Users/Milind/Downloads/amex_test_data/test_files/amex_test_data_0003.txt\n",
      "C:/Users/Milind/Downloads/amex_test_data/test_files/amex_test_data_0004.txt\n",
      "C:/Users/Milind/Downloads/amex_test_data/test_files/amex_test_data_0005.txt\n",
      "C:/Users/Milind/Downloads/amex_test_data/test_files/amex_test_data_0006.txt\n",
      "C:/Users/Milind/Downloads/amex_test_data/test_files/amex_test_data_0007.txt\n",
      "C:/Users/Milind/Downloads/amex_test_data/test_files/amex_test_data_0008.txt\n",
      "C:/Users/Milind/Downloads/amex_test_data/test_files/amex_test_data_0009.txt\n",
      "C:/Users/Milind/Downloads/amex_test_data/test_files/amex_test_data_0010.txt\n",
      "C:/Users/Milind/Downloads/amex_test_data/test_files/amex_test_data_0011.txt\n",
      "C:/Users/Milind/Downloads/amex_test_data/test_files/amex_test_data_0012.txt\n",
      "C:/Users/Milind/Downloads/amex_test_data/test_files/amex_test_data_0013.txt\n",
      "C:/Users/Milind/Downloads/amex_test_data/test_files/amex_test_data_0014.txt\n",
      "C:/Users/Milind/Downloads/amex_test_data/test_files/amex_test_data_0015.txt\n",
      "C:/Users/Milind/Downloads/amex_test_data/test_files/amex_test_data_0016.txt\n",
      "C:/Users/Milind/Downloads/amex_test_data/test_files/amex_test_data_0017.txt\n",
      "C:/Users/Milind/Downloads/amex_test_data/test_files/amex_test_data_0018.txt\n",
      "C:/Users/Milind/Downloads/amex_test_data/test_files/amex_test_data_0019.txt\n",
      "C:/Users/Milind/Downloads/amex_test_data/test_files/amex_test_data_0020.txt\n",
      "C:/Users/Milind/Downloads/amex_test_data/test_files/amex_test_data_0021.txt\n",
      "C:/Users/Milind/Downloads/amex_test_data/test_files/amex_test_data_0022.txt\n",
      "C:/Users/Milind/Downloads/amex_test_data/test_files/amex_test_data_0023.txt\n",
      "C:/Users/Milind/Downloads/amex_test_data/test_files/amex_test_data_0024.txt\n",
      "C:/Users/Milind/Downloads/amex_test_data/test_files/amex_test_data_0025.txt\n",
      "C:/Users/Milind/Downloads/amex_test_data/test_files/amex_test_data_0026.txt\n",
      "C:/Users/Milind/Downloads/amex_test_data/test_files/amex_test_data_0027.txt\n",
      "C:/Users/Milind/Downloads/amex_test_data/test_files/amex_test_data_0028.txt\n",
      "C:/Users/Milind/Downloads/amex_test_data/test_files/amex_test_data_0029.txt\n",
      "C:/Users/Milind/Downloads/amex_test_data/test_files/amex_test_data_0030.txt\n",
      "C:/Users/Milind/Downloads/amex_test_data/test_files/amex_test_data_0031.txt\n",
      "C:/Users/Milind/Downloads/amex_test_data/test_files/amex_test_data_0032.txt\n",
      "C:/Users/Milind/Downloads/amex_test_data/test_files/amex_test_data_0033.txt\n",
      "C:/Users/Milind/Downloads/amex_test_data/test_files/amex_test_data_0034.txt\n"
     ]
    }
   ],
   "source": [
    "read_from_file_v2(infile, outfile, 1000000000)"
   ]
  },
  {
   "cell_type": "code",
   "execution_count": 7,
   "id": "fa52f9c9-13d7-45e1-8ac7-4b98050a549b",
   "metadata": {},
   "outputs": [
    {
     "name": "stdout",
     "output_type": "stream",
     "text": [
      "C:/Users/Milind/Downloads/amex_train_data/train_files/amex_train_data_0001.txt\n",
      "C:/Users/Milind/Downloads/amex_train_data/train_files/amex_train_data_0002.txt\n",
      "C:/Users/Milind/Downloads/amex_train_data/train_files/amex_train_data_0003.txt\n",
      "C:/Users/Milind/Downloads/amex_train_data/train_files/amex_train_data_0004.txt\n",
      "C:/Users/Milind/Downloads/amex_train_data/train_files/amex_train_data_0005.txt\n",
      "C:/Users/Milind/Downloads/amex_train_data/train_files/amex_train_data_0006.txt\n",
      "C:/Users/Milind/Downloads/amex_train_data/train_files/amex_train_data_0007.txt\n",
      "C:/Users/Milind/Downloads/amex_train_data/train_files/amex_train_data_0008.txt\n",
      "C:/Users/Milind/Downloads/amex_train_data/train_files/amex_train_data_0009.txt\n",
      "C:/Users/Milind/Downloads/amex_train_data/train_files/amex_train_data_0010.txt\n",
      "C:/Users/Milind/Downloads/amex_train_data/train_files/amex_train_data_0011.txt\n",
      "C:/Users/Milind/Downloads/amex_train_data/train_files/amex_train_data_0012.txt\n",
      "C:/Users/Milind/Downloads/amex_train_data/train_files/amex_train_data_0013.txt\n",
      "C:/Users/Milind/Downloads/amex_train_data/train_files/amex_train_data_0014.txt\n",
      "C:/Users/Milind/Downloads/amex_train_data/train_files/amex_train_data_0015.txt\n",
      "C:/Users/Milind/Downloads/amex_train_data/train_files/amex_train_data_0016.txt\n",
      "C:/Users/Milind/Downloads/amex_train_data/train_files/amex_train_data_0017.txt\n"
     ]
    }
   ],
   "source": [
    "infile = 'C:/Users/Milind/Downloads/amex_train_data/amex_train_data.csv'\n",
    "outfile = 'C:/Users/Milind/Downloads/amex_train_data/train_files/amex_train_data'\n",
    "read_from_file_v2(infile, outfile, 1000000000)"
   ]
  },
  {
   "cell_type": "code",
   "execution_count": null,
   "id": "2634a5e4-5b76-406d-9bb4-d9f01dcdb805",
   "metadata": {},
   "outputs": [],
   "source": []
  }
 ],
 "metadata": {
  "kernelspec": {
   "display_name": "Python 3 (ipykernel)",
   "language": "python",
   "name": "python3"
  },
  "language_info": {
   "codemirror_mode": {
    "name": "ipython",
    "version": 3
   },
   "file_extension": ".py",
   "mimetype": "text/x-python",
   "name": "python",
   "nbconvert_exporter": "python",
   "pygments_lexer": "ipython3",
   "version": "3.12.3"
  }
 },
 "nbformat": 4,
 "nbformat_minor": 5
}
