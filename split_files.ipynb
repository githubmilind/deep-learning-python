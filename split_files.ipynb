{
  "cells": [
    {
      "cell_type": "code",
      "execution_count": 1,
      "id": "20238562-3490-4b14-83db-c2a7ca644300",
      "metadata": {
        "id": "20238562-3490-4b14-83db-c2a7ca644300"
      },
      "outputs": [],
      "source": [
        "def chunked_file_reader(fp, block_size):\n",
        "    while True:\n",
        "        chunk = fp.read(block_size)\n",
        "        if not chunk:\n",
        "            break\n",
        "        yield chunk"
      ]
    },
    {
      "cell_type": "code",
      "execution_count": 2,
      "id": "5b50f6ee-da0b-4617-a292-a03564d3738d",
      "metadata": {
        "id": "5b50f6ee-da0b-4617-a292-a03564d3738d"
      },
      "outputs": [],
      "source": [
        "def read_from_file_v2(infilename, outfilename, block_size=1024*8):\n",
        "    with open(infilename, 'r') as fp:\n",
        "        count = 1\n",
        "        for chunk in chunked_file_reader(fp, block_size):\n",
        "            file = outfilename + '_' + str(count).zfill(4) + '.txt'\n",
        "            print(file)\n",
        "            w = open(file, \"w\")\n",
        "            w.write(chunk)\n",
        "            w.close()\n",
        "            count += 1"
      ]
    },
    {
      "cell_type": "code",
      "execution_count": null,
      "id": "2634a5e4-5b76-406d-9bb4-d9f01dcdb805",
      "metadata": {
        "id": "2634a5e4-5b76-406d-9bb4-d9f01dcdb805"
      },
      "outputs": [],
      "source": []
    }
  ],
  "metadata": {
    "kernelspec": {
      "display_name": "Python 3 (ipykernel)",
      "language": "python",
      "name": "python3"
    },
    "language_info": {
      "codemirror_mode": {
        "name": "ipython",
        "version": 3
      },
      "file_extension": ".py",
      "mimetype": "text/x-python",
      "name": "python",
      "nbconvert_exporter": "python",
      "pygments_lexer": "ipython3",
      "version": "3.12.3"
    },
    "colab": {
      "provenance": []
    }
  },
  "nbformat": 4,
  "nbformat_minor": 5
}